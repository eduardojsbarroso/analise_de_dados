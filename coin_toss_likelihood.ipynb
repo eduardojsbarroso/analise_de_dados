{
 "cells": [
  {
   "cell_type": "markdown",
   "id": "8d2b7344",
   "metadata": {},
   "source": [
    "# Third Assignment\n",
    "\n",
    "Generate a set of data for a coin toss and analyse the likelihood for different hipotesis. The data is for an amount of times that a coin being tossed give heads."
   ]
  },
  {
   "cell_type": "code",
   "execution_count": 1,
   "id": "cf240264",
   "metadata": {},
   "outputs": [],
   "source": [
    "import random as rd\n",
    "import numpy as np\n",
    "import math\n",
    "import matplotlib.pyplot as plt\n",
    " "
   ]
  },
  {
   "cell_type": "code",
   "execution_count": 2,
   "id": "106ffee6",
   "metadata": {},
   "outputs": [
    {
     "name": "stdout",
     "output_type": "stream",
     "text": [
      "The data were generated considering that the chance for the coin to give heads is 0.5\n"
     ]
    },
    {
     "data": {
      "text/plain": [
       "Text(0, 0.5, 'Likelihood')"
      ]
     },
     "execution_count": 2,
     "metadata": {},
     "output_type": "execute_result"
    },
    {
     "data": {
      "image/png": "[encoded data removed]",
      "text/plain": [
       "<Figure size 432x288 with 1 Axes>"
      ]
     },
     "metadata": {
      "needs_background": "light"
     },
     "output_type": "display_data"
    }
   ],
   "source": [
    "points = 200\n",
    "prob_inicial = 0.5\n",
    "def jogar_moeda(points, prob):\n",
    "    i =0\n",
    "    j=0\n",
    "    for a in range(0, points):\n",
    "        p = rd.uniform(0,1)\n",
    "        if p <= prob:\n",
    "            i+=1\n",
    "        else:\n",
    "            j+=1\n",
    "    return [i,j]\n",
    "\n",
    "def calcular_likelihood(caras, coroas, points, thetac):\n",
    "        bino = math.factorial(points) / (math.factorial(points-caras)*math.factorial(caras)) \n",
    "        prob = thetac**caras *(1-thetac)**coroas\n",
    "        return bino * prob\n",
    "lista1 = []\n",
    "lista2 = []\n",
    "evento = jogar_moeda(points, prob_inicial)\n",
    "print(f\"The data were generated considering that the chance for the coin to give heads is {prob_inicial}\")\n",
    "for a in range(0,1000):\n",
    "    hipotese = rd.uniform(0,1)\n",
    "    likelihood_hipotese= calcular_likelihood(evento[0], evento[1], points, hipotese)\n",
    "    lista1.append(likelihood_hipotese)\n",
    "    lista2.append(hipotese)\n",
    "plt.plot(lista2,lista1,\".\")\n",
    "plt.xlabel(\"Hipotesis\")\n",
    "plt.ylabel(\"Likelihood\")"
   ]
  },
  {
   "cell_type": "markdown",
   "id": "7c1b092e",
   "metadata": {},
   "source": [
    "````L = n! / ((n-c)! c!) * p^head (1-p)^tales````\n",
    "\n",
    "We can see that the maximum likelihood is the one where the hipotesis approachs $0.5$, which is in fact the probability utilized to generate the data."
   ]
  },
  {
   "cell_type": "code",
   "execution_count": 3,
   "id": "b6869271",
   "metadata": {},
   "outputs": [
    {
     "data": {
      "text/plain": [
       "Text(0, 0.5, 'Number of Points')"
      ]
     },
     "execution_count": 3,
     "metadata": {},
     "output_type": "execute_result"
    },
    {
     "data": {
      "image/png": "[encoded data removed]",
      "text/plain": [
       "<Figure size 432x288 with 1 Axes>"
      ]
     },
     "metadata": {
      "needs_background": "light"
     },
     "output_type": "display_data"
    }
   ],
   "source": [
    "plt.hist(lista1, 20)\n",
    "plt.xlabel('Likelihood Value')\n",
    "plt.ylabel('Number of Points')"
   ]
  },
  {
   "cell_type": "markdown",
   "id": "882db11f",
   "metadata": {},
   "source": [
    "From the graph above, we can see that most of our hipoteses had low likelihoods (since they probably aren't for the real value of ($0.5$)"
   ]
  },
  {
   "cell_type": "code",
   "execution_count": null,
   "id": "7bcee79e",
   "metadata": {},
   "outputs": [],
   "source": []
  }
 ],
 "metadata": {
  "kernelspec": {
   "display_name": "Python 3 (ipykernel)",
   "language": "python",
   "name": "python3"
  },
  "language_info": {
   "codemirror_mode": {
    "name": "ipython",
    "version": 3
   },
   "file_extension": ".py",
   "mimetype": "text/x-python",
   "name": "python",
   "nbconvert_exporter": "python",
   "pygments_lexer": "ipython3",
   "version": "3.8.10"
  }
 },
 "nbformat": 4,
 "nbformat_minor": 5
}
