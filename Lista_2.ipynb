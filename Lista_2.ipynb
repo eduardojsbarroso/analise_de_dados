{
 "cells": [
  {
   "cell_type": "code",
   "execution_count": 1,
   "id": "3714d080",
   "metadata": {},
   "outputs": [],
   "source": [
    "import interpolation \n",
    "import numpy as np\n",
    "import scipy as sc\n",
    "import scipy.stats as scs\n",
    "import scipy.integrate as integrate\n",
    "import scipy.optimize as opt\n",
    "from scipy.special import erf\n",
    "import random as rd\n",
    "import matplotlib.pyplot as plt\n",
    "import math\n",
    "\n"
   ]
  },
  {
   "cell_type": "markdown",
   "id": "79562fa1",
   "metadata": {},
   "source": [
    "## Exercise from second list\n",
    "\n",
    "\n",
    "Implementing the functions needed. Supernova1 is with only three paramaters."
   ]
  },
  {
   "cell_type": "code",
   "execution_count": 2,
   "id": "472ac585",
   "metadata": {},
   "outputs": [],
   "source": [
    "class SuperNova1:\n",
    "    def __init__(self,z_list, sigma_list, u_list):\n",
    "        self.z_l = z_list\n",
    "        self.s_l = sigma_list\n",
    "        self.u_l = u_list\n",
    "        self.theta = self.fit_theta()\n",
    "        \n",
    "    def do_E_z(self, theta, z):\n",
    "        return math.sqrt(theta[1] * (1 + z)**3 + theta[2])\n",
    "        \n",
    "    \n",
    "    def do_int_E2(self, theta, z, zfactor = None):\n",
    "        def integrand(z_int):\n",
    "            case = 1\n",
    "            if zfactor == 1:\n",
    "                case = (1 + z)**3\n",
    "            return (-1/2 * (1 * (case)) / ((theta[1] * (1 + z)**3 + theta[2])** (3/2)))\n",
    "        return (integrate.quad(integrand, 0, z)[0])\n",
    "    \n",
    "    def do_D_c(self, theta,z):\n",
    "        def integrand(z_int):\n",
    "            return 1 / (self.do_E_z(theta, z_int))\n",
    "        return (integrate.quad(integrand, 0, z)[0])\n",
    "\n",
    "    def do_D_t(self, theta, z):\n",
    "        D_c = self.do_D_c(theta, z) \n",
    "        return D_c\n",
    "    \n",
    "    def do_D_l(self, theta, z):\n",
    "        return (1+z) * self.do_D_t(theta, z)\n",
    "    \n",
    "    def do_u_z(self, theta, z):\n",
    "        h0 = theta[0]\n",
    "        return 5 * math.log10(self.do_D_l(theta, z)) + 25 + 5*np.log10((3 * 10**5) / h0)\n",
    "    \n",
    "    def likelihood(self, theta):\n",
    "        zl= self.z_l\n",
    "        sl = self.s_l\n",
    "        ul = self.u_l\n",
    "        exp_pow = 0\n",
    "        for a in range (0, len(zl)):\n",
    "            u_uobs = self.do_u_z(theta, zl[a]) - ul[a]\n",
    "            sum_i = (u_uobs**2) / (sl[a]**2)\n",
    "            exp_pow += sum_i\n",
    "        return math.exp(-0.5 * exp_pow)\n",
    "    \n",
    "    def likelihood_ln(self, theta):\n",
    "        return (-2.0 * math.log(self.likelihood(theta)))\n",
    "    \n",
    "    def fit_theta(self):\n",
    "        x0 = [70,0.27,0.73]\n",
    "        bnds = ((0, None), (0.0, 1.0), (0, 1.0))\n",
    "        x0_np = np.array(x0)\n",
    "        return opt.minimize(self.likelihood_ln, x0_np, bounds=bnds, method='Nelder-Mead', tol=1e-6)\n",
    "    \n",
    "    def _do_derivatives(self, z):\n",
    "        theta = self.theta['x']\n",
    "        d_0 = -5 * 1 / theta[0]\n",
    "        d_1 = 5 * (1 / self.do_E_z(theta, z)) * self.do_int_E2(theta, z, zfactor=1)\n",
    "        d_2 = 5 * (1 / self.do_E_z(theta, z)) * self.do_int_E2(theta, z)\n",
    "        d_vec = [d_0, d_1, d_2]\n",
    "        return d_vec \n",
    "    \n",
    "    \n",
    "    def do_fhiser_matrix(self):\n",
    "        z_mean = sum(self.z_l)/ len(self.z_l)\n",
    "        theta = self.theta['x']\n",
    "        matrix = [0 ,0 ,0]\n",
    "        line = []\n",
    "        d_vec = []\n",
    "        for a in range (0,3):\n",
    "            for b in range (0,3):\n",
    "                sum2 = 0\n",
    "                for c in range (len(self.z_l)):\n",
    "                    d_vec = self._do_derivatives(self.z_l[c])\n",
    "                    sum2 += 2 * d_vec[a]*d_vec[b] / (self.s_l[c]**2)\n",
    "                line.append(sum2)\n",
    "            matrix[a] = line\n",
    "            line = []\n",
    "            d_vec = []\n",
    "        return matrix\n",
    "        \n",
    "        "
   ]
  },
  {
   "cell_type": "markdown",
   "id": "062ac075",
   "metadata": {},
   "source": [
    "a) -Best fit"
   ]
  },
  {
   "cell_type": "code",
   "execution_count": 3,
   "id": "62b0921a",
   "metadata": {},
   "outputs": [
    {
     "name": "stdout",
     "output_type": "stream",
     "text": [
      "The best fit found is: h_0 = 69.68452705520892 km/s/Mpc, \\Omega_m = 0.2652961615539559, \\Omega_\\Lambda = 0.7456148337377471\n"
     ]
    }
   ],
   "source": [
    "u_list = [34.117469999999997, 34.082340000000002, 34.070259999999998, 34.404829999999997, 34.128639999999997, 34.451230000000002, 34.318800000000003, 34.215560000000004, 34.161239999999999, 34.488590000000002, 34.575380000000003, 34.493369999999999, 34.940350000000002, 35.145130000000002, 35.249839999999999, 35.227229999999999, 34.93018, 35.191389999999998, 35.352319999999999, 35.34151, 35.56503, 35.14931, 35.994030000000002, 35.821800000000003, 35.558, 35.531300000000002, 35.78839, 35.836199999999998, 36.112879999999997, 36.28389, 36.275149999999996, 36.727640000000001, 36.382930000000002, 36.82694, 36.631860000000003, 36.793500000000002, 36.60604, 37.540019999999998, 37.603360000000002, 37.641710000000003, 37.464709999999997, 38.12106, 38.43656, 38.88447, 40.570869999999999, 40.682099999999998, 40.730200000000004, 40.998739999999998, 40.945410000000003, 41.25853, 41.322809999999997, 41.36636, 41.440710000000003, 41.473939999999999, 41.48489, 41.48789, 41.771929999999998, 41.775739999999999, 41.86542, 42.037439999999997, 42.030110000000001, 42.08907, 42.267910000000001, 42.17991, 42.428370000000001, 42.439010000000003, 42.643340000000002, 42.591529999999999, 42.824269999999999, 42.486130000000003, 42.461010000000002, 42.51052, 42.46461, 42.760820000000002, 42.880760000000002, 42.561369999999997, 42.514989999999997, 42.79513, 42.960189999999997, 43.02993, 42.745910000000002, 43.13241, 43.022689999999997, 43.397129999999997, 43.0456, 43.143700000000003, 43.022579999999998, 43.236460000000001, 43.17559, 43.208649999999999, 43.28689, 43.426960000000001, 43.169130000000003, 43.452640000000002, 43.353000000000002, 43.489539999999998, 43.691070000000003, 43.94979, 43.651919999999997, 43.531529999999997, 43.543680000000002, 44.41386, 43.474789999999999, 43.870280000000001, 44.094340000000003, 43.707729999999998, 44.258890000000001, 44.552239999999998, 44.429130000000001, 43.506959999999999, 43.953150000000001, 43.62209, 43.999270000000003, 43.940669999999997, 44.672240000000002]\n",
    "sigma_list = [0.19292000000000001, 0.19033, 0.19617999999999999, 0.18698999999999999, 0.18648000000000001, 0.18865000000000001, 0.18634999999999999, 0.18315999999999999, 0.18215000000000001, 0.18018999999999999, 0.17867, 0.17172999999999999, 0.16571, 0.16145999999999999, 0.16600999999999999, 0.16137000000000001, 0.15934000000000001, 0.15994, 0.16148999999999999, 0.15581999999999999, 0.19253999999999999, 0.15323999999999999, 0.15362000000000001, 0.24753, 0.15085999999999999, 0.15947, 0.15057999999999999, 0.14807999999999999, 0.14657999999999999, 0.14294999999999999, 0.14374000000000001, 0.14305999999999999, 0.14054, 0.14433000000000001, 0.13855999999999999, 0.13921, 0.14169999999999999, 0.13900000000000001, 0.1394, 0.14005999999999999, 0.13743, 0.13893, 0.14224999999999999, 0.14007, 0.13249, 0.13172, 0.13195000000000001, 0.13503999999999999, 0.13167999999999999, 0.13138, 0.13161999999999999, 0.13266, 0.13228999999999999, 0.13173000000000001, 0.13203000000000001, 0.13446, 0.13369, 0.13657, 0.13833000000000001, 0.13447000000000001, 0.14319000000000001, 0.13549, 0.13478999999999999, 0.13639999999999999, 0.13677, 0.14183999999999999, 0.14221, 0.15515000000000001, 0.15376000000000001, 0.14235999999999999, 0.13555, 0.13421, 0.14868999999999999, 0.13919000000000001, 0.14176, 0.15886, 0.13417999999999999, 0.13671, 0.14465, 0.14410000000000001, 0.13569000000000001, 0.14562, 0.14354, 0.15769, 0.14005000000000001, 0.18895999999999999, 0.15690000000000001, 0.18373, 0.15179999999999999, 0.16864999999999999, 0.15110000000000001, 0.17566000000000001, 0.15923999999999999, 0.14326, 0.15151000000000001, 0.15898000000000001, 0.32857999999999998, 0.29466999999999999, 0.28556999999999999, 0.33106999999999998, 0.25391999999999998, 0.37047000000000002, 0.22628999999999999, 0.36829000000000001, 0.32807999999999998, 0.28938999999999998, 0.36984, 0.40148, 0.44995000000000002, 0.30181999999999998, 0.29831000000000002, 0.26844000000000001, 0.31807000000000002, 0.51326000000000005, 0.54895000000000005]\n",
    "z_list = [0.015429999999999999, 0.015879999999999998, 0.016150000000000001, 0.016310000000000002, 0.016449999999999999, 0.01661, 0.016830000000000001, 0.01721, 0.017340000000000001, 0.017649999999999999, 0.01814, 0.01983, 0.021839999999999998, 0.023230000000000001, 0.02351, 0.024160000000000001, 0.024559999999999998, 0.024819999999999998, 0.025940000000000001, 0.02605, 0.02632, 0.027900000000000001, 0.029610000000000001, 0.030130000000000001, 0.03057, 0.030630000000000001, 0.031559999999999998, 0.034799999999999998, 0.036490000000000002, 0.039280000000000002, 0.042909999999999997, 0.04512, 0.048759999999999998, 0.050099999999999999, 0.050220000000000001, 0.052979999999999999, 0.053710000000000001, 0.06336, 0.070760000000000003, 0.074789999999999995, 0.078850000000000003, 0.087760000000000005, 0.10083, 0.12470000000000001, 0.24859999999999999, 0.26300000000000001, 0.28499999999999998, 0.29120000000000001, 0.33100000000000002, 0.33729999999999999, 0.3402, 0.34599999999999997, 0.35699999999999998, 0.35780000000000001, 0.36899999999999999, 0.37090000000000001, 0.41499999999999998, 0.42999999999999999, 0.44900000000000001, 0.45100000000000001, 0.4607, 0.4627, 0.46999999999999997, 0.496, 0.50429999999999997, 0.52100000000000002, 0.52600000000000002, 0.53200000000000003, 0.54800000000000004, 0.55000000000000004, 0.55159999999999998, 0.55700000000000005, 0.57099999999999995, 0.58099999999999996, 0.58169999999999999, 0.59199999999999997, 0.60399999999999998, 0.60999999999999999, 0.61299999999999999, 0.62, 0.62680000000000002, 0.63300000000000001, 0.64300000000000002, 0.67900000000000005, 0.68799999999999994, 0.69099999999999995, 0.69499999999999995, 0.70699999999999996, 0.70999999999999996, 0.72099999999999997, 0.72999999999999998, 0.74099999999999999, 0.752, 0.75600000000000001, 0.79100000000000004, 0.80000000000000004, 0.81000000000000005, 0.81100000000000005, 0.81699999999999995, 0.81799999999999995, 0.82179999999999997, 0.82999999999999996, 0.83999999999999997, 0.86799999999999999, 0.87, 0.90500000000000003, 0.91000000000000003, 0.92710000000000004, 0.93000000000000005, 0.94899999999999995, 0.94999999999999996, 0.95999999999999996, 0.96099999999999997, 0.98299999999999998, 1.01]\n",
    "\n",
    "\n",
    "\n",
    "sp1 = SuperNova1(z_list,sigma_list,u_list)\n",
    "result = sp1.theta['x']\n",
    "print(f\"The best fit found is: h_0 = {result[0]} km/s/Mpc, \\Omega_m = {result[1]}, \\Omega_\\Lambda = {result[2]}\")\n"
   ]
  },
  {
   "cell_type": "markdown",
   "id": "fedfe44b",
   "metadata": {},
   "source": [
    "a) Fisher matrix\n",
    "For information about this topic, I recommend https://sci-hub.hkvisa.net/10.1086/303939, but bear in mind that we do not have a normalization factor and this will create some differences between our computations and the paper's."
   ]
  },
  {
   "cell_type": "code",
   "execution_count": 4,
   "id": "c6d64426",
   "metadata": {},
   "outputs": [
    {
     "name": "stdout",
     "output_type": "stream",
     "text": [
      "The fisher Information Matrix for H,Omega_m and Omega_\\Lambda is: \n",
      " [46.48281407132796, 670.6548688109673, 194.9291650973872]\n",
      " [670.6548688109673, 15684.840052972382, 3899.7880330977446] \n",
      " [194.9291650973872, 3899.7880330977446, 1081.5894401197713]\n",
      "\n"
     ]
    }
   ],
   "source": [
    "print(f'The fisher Information Matrix for H,Omega_m and Omega_\\Lambda is: \\n {sp1.do_fhiser_matrix()[0]}\\n {sp1.do_fhiser_matrix()[1]} \\n {sp1.do_fhiser_matrix()[2]}\\n')"
   ]
  },
  {
   "cell_type": "markdown",
   "id": "81643345",
   "metadata": {},
   "source": [
    "a)Confidence regions\n",
    "For a 5 dimensional gaussian distribution with an hipotesis with 2 degrees of freedom fixed, we can affirm that\n",
    "\\begin{equation}\n",
    "\\lambda = \\frac{L(D|\\hat{\\theta_0})}{L(D|\\hat{\\theta})} \\rightarrow -2\\ln \\lambda \\sim X^2_l\n",
    ",\\end{equation}\n",
    "where $l = 5 - 2 = 3$. From this relation, we have that our confidence region is defined as\n",
    "\\begin{equation}\n",
    "-2\\ln \\lambda \\leq X^0_l\n",
    ".\\end{equation}\n",
    "To find the confidence regions,\n",
    "\\begin{equation}\n",
    "\\int_{X_{0l}}^\\infty P_{X^2_l}(x)dx = \\alpha\n",
    ".\\end{equation}\n",
    "We know that \n",
    "\\begin{equation}\n",
    " P_{X^2_3}(x) = \\frac{1}{\\Gamma(\\frac{3}{2}) 2^{3/2}}x^{3/2 - 1}e^{-x/2} = \\frac{1}{\\sqrt{2\\pi}}\\sqrt{x}e^{-x/2}\n",
    ".\\end{equation}\n",
    "For 1,2 and 3$\\sigma$, $\\alpha = 0.3173, 0.045, 0.0027$. Also, \n",
    "\\begin{equation}\n",
    "X_{0l} = -2\\ln \\lambda(\\alpha)= \\frac{\\bar{\\mu_{T0}}^2 - \\bar{\\mu_{T}}^2 -2(\\bar{\\mu_{T0}} - \\bar{\\mu_{T}})\\bar{\\mu_i}}{\\bar{\\sigma}^2}\n",
    "\\end{equation}\n"
   ]
  },
  {
   "cell_type": "code",
   "execution_count": 5,
   "id": "d65bbb02",
   "metadata": {},
   "outputs": [],
   "source": [
    "class SuperNova2:\n",
    "    def __init__(self,z_list, sigma_list, u_list):\n",
    "        self.z_l = z_list\n",
    "        self.s_l = sigma_list\n",
    "        self.u_l = u_list\n",
    "        self.theta = self.fit_theta()\n",
    "        \n",
    "    def do_E_z(self, theta, z):\n",
    "        return (theta[1] * (1 + z)**2 + theta[2] * (1 + z)**3 + theta[3] * (1 + z)**4 + theta[4])\n",
    "        \n",
    "    \n",
    "    def do_D_c(self, theta,z):\n",
    "        def integrand(z_int):\n",
    "            return (1 / self.do_E_z(theta, z_int))\n",
    "        return integrate.quad(integrand, 0, z)[0]\n",
    "\n",
    "    def do_D_t(self, theta, z):\n",
    "        D_c = self.do_D_c(theta, z) \n",
    "        omega_k0_sqrt = math.sqrt(theta[1])\n",
    "        return (np.sinh(D_c * omega_k0_sqrt) / omega_k0_sqrt)\n",
    "    \n",
    "    def do_D_l(self, theta, z):\n",
    "        return (1+z) * self.do_D_t(theta, z)\n",
    "    \n",
    "    def do_u_z(self, theta, z):\n",
    "        h0 = theta[0]\n",
    "        return 5 * math.log10(self.do_D_l(theta, z)) + 25 + 5*np.log10((3 * 10**5) / h0)\n",
    "    \n",
    "    def likelihood(self, theta):\n",
    "        zl= self.z_l\n",
    "        sl = self.s_l\n",
    "        ul = self.u_l\n",
    "        exp_pow = 0\n",
    "        for a in range (0, len(zl)):\n",
    "            u_uobs = self.do_u_z(theta, zl[a]) - ul[a]\n",
    "            sum_i = (u_uobs**2) / (sl[a]**2)\n",
    "            exp_pow += sum_i\n",
    "        return math.exp(-0.5 * exp_pow)\n",
    "    \n",
    "    def likelihood_ln(self, theta):\n",
    "        return (-2.0 * math.log(self.likelihood(theta)))\n",
    "    \n",
    "    def fit_theta(self):\n",
    "        x0 = [70,0.02,0.27,1e-05,0.73]\n",
    "        bnds = ((0, 80.0), (None, None), (0, 1.0), (0, 1.0), (0, 1.0))\n",
    "        x0_np = np.array(x0)\n",
    "        return opt.minimize(self.likelihood_ln, x0_np, bounds=bnds, method='Nelder-Mead', tol=1e-2)\n",
    "    \n",
    "            "
   ]
  },
  {
   "cell_type": "code",
   "execution_count": 6,
   "id": "9a49dd24",
   "metadata": {},
   "outputs": [
    {
     "name": "stdout",
     "output_type": "stream",
     "text": [
      " final_simplex: (array([[6.38378835e+01, 2.63163270e-02, 1.14550766e-01, 1.44748453e-05,\n",
      "        9.58361646e-01],\n",
      "       [6.38341439e+01, 2.63165243e-02, 1.14560521e-01, 1.44751935e-05,\n",
      "        9.58400033e-01],\n",
      "       [6.38318142e+01, 2.63152424e-02, 1.14590633e-01, 1.44741782e-05,\n",
      "        9.58419264e-01],\n",
      "       [6.38279244e+01, 2.63153174e-02, 1.14598474e-01, 1.44741030e-05,\n",
      "        9.58453370e-01],\n",
      "       [6.38296617e+01, 2.63143380e-02, 1.14600684e-01, 1.44737339e-05,\n",
      "        9.58419593e-01],\n",
      "       [6.38329934e+01, 2.63145501e-02, 1.14604829e-01, 1.44743694e-05,\n",
      "        9.58373409e-01]]), array([110.90357065, 110.90357185, 110.90357209, 110.90357239,\n",
      "       110.90357271, 110.90357363]))\n",
      "           fun: 110.90357064713487\n",
      "       message: 'Optimization terminated successfully.'\n",
      "          nfev: 188\n",
      "           nit: 105\n",
      "        status: 0\n",
      "       success: True\n",
      "             x: array([6.38378835e+01, 2.63163270e-02, 1.14550766e-01, 1.44748453e-05,\n",
      "       9.58361646e-01])\n"
     ]
    }
   ],
   "source": [
    "u_list = [34.117469999999997, 34.082340000000002, 34.070259999999998, 34.404829999999997, 34.128639999999997, 34.451230000000002, 34.318800000000003, 34.215560000000004, 34.161239999999999, 34.488590000000002, 34.575380000000003, 34.493369999999999, 34.940350000000002, 35.145130000000002, 35.249839999999999, 35.227229999999999, 34.93018, 35.191389999999998, 35.352319999999999, 35.34151, 35.56503, 35.14931, 35.994030000000002, 35.821800000000003, 35.558, 35.531300000000002, 35.78839, 35.836199999999998, 36.112879999999997, 36.28389, 36.275149999999996, 36.727640000000001, 36.382930000000002, 36.82694, 36.631860000000003, 36.793500000000002, 36.60604, 37.540019999999998, 37.603360000000002, 37.641710000000003, 37.464709999999997, 38.12106, 38.43656, 38.88447, 40.570869999999999, 40.682099999999998, 40.730200000000004, 40.998739999999998, 40.945410000000003, 41.25853, 41.322809999999997, 41.36636, 41.440710000000003, 41.473939999999999, 41.48489, 41.48789, 41.771929999999998, 41.775739999999999, 41.86542, 42.037439999999997, 42.030110000000001, 42.08907, 42.267910000000001, 42.17991, 42.428370000000001, 42.439010000000003, 42.643340000000002, 42.591529999999999, 42.824269999999999, 42.486130000000003, 42.461010000000002, 42.51052, 42.46461, 42.760820000000002, 42.880760000000002, 42.561369999999997, 42.514989999999997, 42.79513, 42.960189999999997, 43.02993, 42.745910000000002, 43.13241, 43.022689999999997, 43.397129999999997, 43.0456, 43.143700000000003, 43.022579999999998, 43.236460000000001, 43.17559, 43.208649999999999, 43.28689, 43.426960000000001, 43.169130000000003, 43.452640000000002, 43.353000000000002, 43.489539999999998, 43.691070000000003, 43.94979, 43.651919999999997, 43.531529999999997, 43.543680000000002, 44.41386, 43.474789999999999, 43.870280000000001, 44.094340000000003, 43.707729999999998, 44.258890000000001, 44.552239999999998, 44.429130000000001, 43.506959999999999, 43.953150000000001, 43.62209, 43.999270000000003, 43.940669999999997, 44.672240000000002]\n",
    "sigma_list = [0.19292000000000001, 0.19033, 0.19617999999999999, 0.18698999999999999, 0.18648000000000001, 0.18865000000000001, 0.18634999999999999, 0.18315999999999999, 0.18215000000000001, 0.18018999999999999, 0.17867, 0.17172999999999999, 0.16571, 0.16145999999999999, 0.16600999999999999, 0.16137000000000001, 0.15934000000000001, 0.15994, 0.16148999999999999, 0.15581999999999999, 0.19253999999999999, 0.15323999999999999, 0.15362000000000001, 0.24753, 0.15085999999999999, 0.15947, 0.15057999999999999, 0.14807999999999999, 0.14657999999999999, 0.14294999999999999, 0.14374000000000001, 0.14305999999999999, 0.14054, 0.14433000000000001, 0.13855999999999999, 0.13921, 0.14169999999999999, 0.13900000000000001, 0.1394, 0.14005999999999999, 0.13743, 0.13893, 0.14224999999999999, 0.14007, 0.13249, 0.13172, 0.13195000000000001, 0.13503999999999999, 0.13167999999999999, 0.13138, 0.13161999999999999, 0.13266, 0.13228999999999999, 0.13173000000000001, 0.13203000000000001, 0.13446, 0.13369, 0.13657, 0.13833000000000001, 0.13447000000000001, 0.14319000000000001, 0.13549, 0.13478999999999999, 0.13639999999999999, 0.13677, 0.14183999999999999, 0.14221, 0.15515000000000001, 0.15376000000000001, 0.14235999999999999, 0.13555, 0.13421, 0.14868999999999999, 0.13919000000000001, 0.14176, 0.15886, 0.13417999999999999, 0.13671, 0.14465, 0.14410000000000001, 0.13569000000000001, 0.14562, 0.14354, 0.15769, 0.14005000000000001, 0.18895999999999999, 0.15690000000000001, 0.18373, 0.15179999999999999, 0.16864999999999999, 0.15110000000000001, 0.17566000000000001, 0.15923999999999999, 0.14326, 0.15151000000000001, 0.15898000000000001, 0.32857999999999998, 0.29466999999999999, 0.28556999999999999, 0.33106999999999998, 0.25391999999999998, 0.37047000000000002, 0.22628999999999999, 0.36829000000000001, 0.32807999999999998, 0.28938999999999998, 0.36984, 0.40148, 0.44995000000000002, 0.30181999999999998, 0.29831000000000002, 0.26844000000000001, 0.31807000000000002, 0.51326000000000005, 0.54895000000000005]\n",
    "z_list = [0.015429999999999999, 0.015879999999999998, 0.016150000000000001, 0.016310000000000002, 0.016449999999999999, 0.01661, 0.016830000000000001, 0.01721, 0.017340000000000001, 0.017649999999999999, 0.01814, 0.01983, 0.021839999999999998, 0.023230000000000001, 0.02351, 0.024160000000000001, 0.024559999999999998, 0.024819999999999998, 0.025940000000000001, 0.02605, 0.02632, 0.027900000000000001, 0.029610000000000001, 0.030130000000000001, 0.03057, 0.030630000000000001, 0.031559999999999998, 0.034799999999999998, 0.036490000000000002, 0.039280000000000002, 0.042909999999999997, 0.04512, 0.048759999999999998, 0.050099999999999999, 0.050220000000000001, 0.052979999999999999, 0.053710000000000001, 0.06336, 0.070760000000000003, 0.074789999999999995, 0.078850000000000003, 0.087760000000000005, 0.10083, 0.12470000000000001, 0.24859999999999999, 0.26300000000000001, 0.28499999999999998, 0.29120000000000001, 0.33100000000000002, 0.33729999999999999, 0.3402, 0.34599999999999997, 0.35699999999999998, 0.35780000000000001, 0.36899999999999999, 0.37090000000000001, 0.41499999999999998, 0.42999999999999999, 0.44900000000000001, 0.45100000000000001, 0.4607, 0.4627, 0.46999999999999997, 0.496, 0.50429999999999997, 0.52100000000000002, 0.52600000000000002, 0.53200000000000003, 0.54800000000000004, 0.55000000000000004, 0.55159999999999998, 0.55700000000000005, 0.57099999999999995, 0.58099999999999996, 0.58169999999999999, 0.59199999999999997, 0.60399999999999998, 0.60999999999999999, 0.61299999999999999, 0.62, 0.62680000000000002, 0.63300000000000001, 0.64300000000000002, 0.67900000000000005, 0.68799999999999994, 0.69099999999999995, 0.69499999999999995, 0.70699999999999996, 0.70999999999999996, 0.72099999999999997, 0.72999999999999998, 0.74099999999999999, 0.752, 0.75600000000000001, 0.79100000000000004, 0.80000000000000004, 0.81000000000000005, 0.81100000000000005, 0.81699999999999995, 0.81799999999999995, 0.82179999999999997, 0.82999999999999996, 0.83999999999999997, 0.86799999999999999, 0.87, 0.90500000000000003, 0.91000000000000003, 0.92710000000000004, 0.93000000000000005, 0.94899999999999995, 0.94999999999999996, 0.95999999999999996, 0.96099999999999997, 0.98299999999999998, 1.01]\n",
    "\n",
    "\n",
    "\n",
    "sp2 = SuperNova2(z_list,sigma_list,u_list)\n",
    "print(sp2.theta)"
   ]
  },
  {
   "cell_type": "code",
   "execution_count": 11,
   "id": "0ad41159",
   "metadata": {},
   "outputs": [
    {
     "name": "stdout",
     "output_type": "stream",
     "text": [
      "For 1,2,3sigma and l=3, X^2_0 = [3.5268221788659933, 8.049484717482304, 14.1562525005409]\n",
      "\n",
      "\n",
      "\n",
      "\n",
      "\n",
      "\n"
     ]
    },
    {
     "data": {
      "image/png": "[encoded data removed]",
      "text/plain": [
       "<Figure size 432x288 with 1 Axes>"
      ]
     },
     "metadata": {
      "needs_background": "light"
     },
     "output_type": "display_data"
    }
   ],
   "source": [
    "x0_list = [scs.chi2.ppf(0.6827, 3), scs.chi2.ppf(0.955, 3), scs.chi2.ppf(0.9973, 3)]\n",
    "\n",
    "print(f\"For 1,2,3sigma and l=3, X^2_0 = {x0_list}\")\n",
    "\n",
    "#To find the confidence region, we must compute the parameter values so that -2ln \\lambda < x0\n",
    "interval0 = np.linspace(60 ,89, 100)\n",
    "for a in interval0:\n",
    "    theta0 = [69.68452706,  0.26529616,  0.74561483]\n",
    "    theta0[0] = a\n",
    "    lambda_f0 = sp1.likelihood_ln(theta0) / sp2.likelihood_ln(sp2.theta['x'])\n",
    "    if lambda_f0<3.52:\n",
    "        plt.scatter(a, lambda_f0, c='blue')\n",
    "print(\"\\n\\n\")\n",
    "interval1 = np.linspace(0.01 ,0.7, 100)\n",
    "for b in interval1:\n",
    "    theta1 = [69.68452706,  0.26529616,  0.74561483]\n",
    "    theta1[1] = b\n",
    "    lambda_f1 = sp1.likelihood_ln(theta1) / sp2.likelihood_ln(sp2.theta['x'])\n",
    "\n",
    "print(\"\\n\\n\")\n",
    "theta_real = (sp1.theta['x'])  \n",
    "interval2 = np.linspace(0.3 ,1.5, 100)\n",
    "for c in interval2:\n",
    "    theta2 = [69.68452706,  0.26529616,  0.74561483]\n",
    "    theta2[2] = c\n",
    "    lambda_f2 = sp1.likelihood_ln(theta2) / sp2.likelihood_ln(sp2.theta['x'])\n",
    "\n",
    "plt.show()"
   ]
  },
  {
   "cell_type": "code",
   "execution_count": null,
   "id": "25476b71",
   "metadata": {},
   "outputs": [],
   "source": []
  }
 ],
 "metadata": {
  "kernelspec": {
   "display_name": "Python 3 (ipykernel)",
   "language": "python",
   "name": "python3"
  },
  "language_info": {
   "codemirror_mode": {
    "name": "ipython",
    "version": 3
   },
   "file_extension": ".py",
   "mimetype": "text/x-python",
   "name": "python",
   "nbconvert_exporter": "python",
   "pygments_lexer": "ipython3",
   "version": "3.8.10"
  }
 },
 "nbformat": 4,
 "nbformat_minor": 5
}
