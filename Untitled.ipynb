{
 "cells": [
  {
   "cell_type": "markdown",
   "id": "0a9bdd55",
   "metadata": {},
   "source": [
    "*First Assignment*"
   ]
  },
  {
   "cell_type": "code",
   "execution_count": 1,
   "id": "568d2478",
   "metadata": {},
   "outputs": [],
   "source": [
    "import numpy as np\n",
    "import scipy as sc\n",
    "from scipy.special import erf\n",
    "import random as rd\n",
    "import matplotlib.pyplot as plt\n",
    "import math"
   ]
  },
  {
   "cell_type": "markdown",
   "id": "896bc574",
   "metadata": {},
   "source": [
    "For a linear regression\n",
    "\n",
    "``y= ax + b`` \n",
    "\n",
    "Given a $n$ dataset of points ($x$,$y$), we need to find\n",
    "\n",
    "``a= (\\sum y)(\\sum x**2) - (\\sum x)(\\sum xy)/ n(\\sum x**2)(\\sum x)**2``\n",
    "\n",
    "\n",
    "````b= n(\\sum xy) - (\\sum x)(\\sum y)/ n(\\sum x**2)(\\sum x)**2````\n",
    "\n",
    "In our case, we are going to do $n$ linear interpolations of $2$ points."
   ]
  },
  {
   "cell_type": "code",
   "execution_count": 8,
   "id": "0a8c3f08",
   "metadata": {},
   "outputs": [],
   "source": [
    "class LinearInterp:\n",
    "    def __init__(self, x_data, y_data):\n",
    "        self.x_data = x_data\n",
    "        self.y_data = y_data\n",
    "\n",
    "    def do_interp(self, x):\n",
    "        for a in range(0, len(self.y_data)-1):\n",
    "            if x >= self.x_data[a] and x <= self.x_data[a+1]:\n",
    "                dy = self.y_data[a+1] - self.y_data[a]\n",
    "                dx = self.x_data[a+1] - self.x_data[a]\n",
    "                coef_b = self.y_data [a] - (self.x_data[a] * dy) / dx  \n",
    "                coef_a = dy / dx\n",
    "                new_point = coef_b + x * coef_a\n",
    "                return [new_point, (coef_a, coef_b),(self.x_data[a], self.x_data[a+1])]\n",
    "    \n",
    "    def do_cumulative(self, a, b):\n",
    "        cumulative = 0\n",
    "        for x in self.x_data:\n",
    "            if x>=a and x<=b:\n",
    "                result = self.do_interp(x)\n",
    "                cumulative += result[2][1] ** 2 * result[1][0] /2 + result[2][1]*result[1][1] - result[2][0] ** 2 * result[1][0] /2 - result[2][0]*result[1][1]  \n",
    "        return [cumulative, result[1][0], result[1][1]]\n",
    "    \n",
    "    def generate_random_g_point(self, a, b):\n",
    "        c = rd.uniform(0,1)\n",
    "        compute = True\n",
    "        coef_a = None\n",
    "        coef_b = None\n",
    "        i=0\n",
    "        for knot in self.x_data:\n",
    "            c_test = self.do_cumulative(a,knot)\n",
    "            if c_test[0] >= c:\n",
    "                coef_a = c_test[1]\n",
    "                coef_b = c_test[2]\n",
    "                break\n",
    "        try:\n",
    "            return (-2*coef_b/coef_a + math.sqrt((2*coef_b/coef_a)**2 + 8* c / coef_a))/2 * coef_a\n",
    "        except ValueError:\n",
    "            return f'O valor {coef_b ** 2 + 2* coef_a * c}, a= {coef_a}, b = {coef_b}'"
   ]
  },
  {
   "cell_type": "markdown",
   "id": "340ed96f",
   "metadata": {},
   "source": [
    "Simple Test with a parabolic function $y$"
   ]
  },
  {
   "cell_type": "code",
   "execution_count": 9,
   "id": "690494fb",
   "metadata": {},
   "outputs": [
    {
     "name": "stdout",
     "output_type": "stream",
     "text": [
      "Interpolated Point :6.5\n",
      "Real Point 6.25\n"
     ]
    }
   ],
   "source": [
    "x = [0,1,2,3,4]\n",
    "y = [a**2 for a in x]\n",
    "\n",
    "myobj = LinearInterp(x,y)\n",
    "n_p, coef_a, coef_b = myobj.do_interp(2.5)\n",
    "print(f\"Interpolated Point :{n_p}\")\n",
    "print(f\"Real Point {2.5**2}\")"
   ]
  },
  {
   "cell_type": "markdown",
   "id": "b250693c",
   "metadata": {},
   "source": [
    "Test With a Gaussian Function and Error plot"
   ]
  },
  {
   "cell_type": "code",
   "execution_count": 10,
   "id": "c8c477e4",
   "metadata": {},
   "outputs": [],
   "source": [
    "mu = 0\n",
    "var = 1\n",
    "interval_init = -5\n",
    "interval_end = 5\n",
    "def gaussian(x, mu, sig):\n",
    "    return np.exp(-np.power(x - mu, 2.) / (2 * np.power(sig, 2.))) * (1/ (np.sqrt(2 * np.pi)*sig))\n",
    "\n",
    "def gaussian_cdf(b, mu, sig):\n",
    "    arg = (b - mu)/(np.sqrt(2) * sig)\n",
    "    return 1/2 * (1 + erf(arg))\n",
    "\n",
    "\n",
    "x = np.linspace(interval_init,interval_end, 500)\n",
    "y = [gaussian(a, mu,var) for a in x]\n",
    "myobj = LinearInterp(x,y)\n",
    "\n",
    "err_list = []\n",
    "points_int = []\n",
    "for a in range (0,100):\n",
    "    point = rd.uniform(min(x),max(x))\n",
    "    n_p, coef_a, coef_b = myobj.do_interp(point)\n",
    "    err_list.append(abs(((n_p - gaussian(point, mu, var)))/gaussian(point, mu, var))*100)\n",
    "    points_int.append(n_p)"
   ]
  },
  {
   "cell_type": "code",
   "execution_count": 11,
   "id": "79678e73",
   "metadata": {},
   "outputs": [
    {
     "data": {
      "text/plain": [
       "Text(0, 0.5, 'Percentage Error')"
      ]
     },
     "execution_count": 11,
     "metadata": {},
     "output_type": "execute_result"
    },
    {
     "data": {
      "image/png": "[encoded data removed]",
      "text/plain": [
       "<Figure size 432x288 with 1 Axes>"
      ]
     },
     "metadata": {
      "needs_background": "light"
     },
     "output_type": "display_data"
    }
   ],
   "source": [
    "plt.plot(points_int, err_list, '.')\n",
    "plt.xlabel('Interpolated Points')\n",
    "plt.ylabel('Percentage Error')\n"
   ]
  },
  {
   "cell_type": "markdown",
   "id": "b0f1fa7d",
   "metadata": {},
   "source": [
    "Cumulative Gaussian Test"
   ]
  },
  {
   "cell_type": "code",
   "execution_count": 12,
   "id": "0e954895",
   "metadata": {},
   "outputs": [
    {
     "data": {
      "text/plain": [
       "[<matplotlib.lines.Line2D at 0x7fe8c48dbe80>]"
      ]
     },
     "execution_count": 12,
     "metadata": {},
     "output_type": "execute_result"
    },
    {
     "data": {
      "image/png": "[encoded data removed]",
      "text/plain": [
       "<Figure size 432x288 with 1 Axes>"
      ]
     },
     "metadata": {
      "needs_background": "light"
     },
     "output_type": "display_data"
    }
   ],
   "source": [
    "cdf_int = []\n",
    "cdf_real = []\n",
    "cdf_err = []\n",
    "interval = np.linspace(interval_init,interval_end, 500)\n",
    "for a in interval:\n",
    "    my_cdf = myobj.do_cumulative(-5,a)[0]\n",
    "    g_cdf = gaussian_cdf(a,mu,var)\n",
    "    cdf_int.append(my_cdf)\n",
    "    cdf_real.append(g_cdf)\n",
    "    cdf_err.append(abs((my_cdf - g_cdf)/g_cdf)*100)\n",
    "plt.plot(interval, cdf_err, '.')"
   ]
  },
  {
   "cell_type": "markdown",
   "id": "b15f2140",
   "metadata": {},
   "source": [
    "Sampler from the Cumulative\n",
    "\n",
    "We have a cumulative function that depends on $x$. We want to invert this relation and make the ponts depend on the cumulative. We know that\n",
    "\n",
    "``y=C(x) = a x^2 / 2 + bx``,\n",
    "\n",
    "thus,\n",
    "\n",
    "``\n",
    "y^{-1} = (-b- \\sqrt{b^2 + 2ax})/a\n",
    "``\n",
    ", where now $x$ represents the cumulative and $y^{-1}$ is the point."
   ]
  },
  {
   "cell_type": "code",
   "execution_count": 13,
   "id": "bfa940cd",
   "metadata": {},
   "outputs": [
    {
     "name": "stdout",
     "output_type": "stream",
     "text": [
      "-0.6323669563812575\n",
      "0.10844156751211843\n",
      "O valor -0.1841583845024618, a= -0.19050586837507474, b = 0.41524107118484\n",
      "0.1099673264582034\n",
      "0.09747362052754481\n",
      "0.06466090096440204\n",
      "0.10492686179751261\n",
      "0.1062056420121918\n",
      "-0.7876675372543404\n",
      "O valor -0.11598700743892837, a= -0.08299628809752663, b = 0.21798461536042427\n",
      "0.01917959706795262\n",
      "O valor -0.15584634964004587, a= -0.2384583657299342, b = 0.4807043912717931\n",
      "-0.5009774903657573\n",
      "O valor -0.18285405271657584, a= -0.1871730033521346, b = 0.4101315686947614\n",
      "O valor -0.17862318924616905, a= -0.24104951613046205, b = 0.4829834979852964\n",
      "0.07131038755606947\n",
      "0.10014532312886261\n",
      "0.10573959720971417\n",
      "0.10010944798533876\n",
      "O valor -0.05010882640012598, a= -0.17628888887279465, b = 0.44019666464253077\n",
      "0.08468612067408376\n",
      "0.00034139794450602077\n",
      "-0.7067059929932153\n",
      "O valor -0.18879584257157012, a= -0.2092107092081742, b = 0.4426291270774675\n",
      "0.11002301671685837\n",
      "0.08648715319056823\n",
      "0.06510821146839194\n",
      "-0.4981670859198967\n",
      "O valor -0.14334137110483655, a= -0.23387342745027914, b = 0.47680803648964404\n",
      "0.10835226063911076\n"
     ]
    },
    {
     "data": {
      "text/plain": [
       "[<matplotlib.lines.Line2D at 0x7fe8c4839b80>]"
      ]
     },
     "execution_count": 13,
     "metadata": {},
     "output_type": "execute_result"
    },
    {
     "data": {
      "image/png": "[encoded data removed]",
      "text/plain": [
       "<Figure size 432x288 with 1 Axes>"
      ]
     },
     "metadata": {
      "needs_background": "light"
     },
     "output_type": "display_data"
    }
   ],
   "source": [
    "sample = []\n",
    "for a in range (0,30):\n",
    "    new_sample_p = myobj.generate_random_g_point(interval_init, interval_end)\n",
    "    sample.append(new_sample_p)\n",
    "    print(new_sample_p)\n",
    "plt.plot(new_sample_p)"
   ]
  },
  {
   "cell_type": "code",
   "execution_count": null,
   "id": "aeee5d45",
   "metadata": {},
   "outputs": [],
   "source": []
  },
  {
   "cell_type": "code",
   "execution_count": null,
   "id": "57adf9a1",
   "metadata": {},
   "outputs": [],
   "source": []
  },
  {
   "cell_type": "code",
   "execution_count": null,
   "id": "443bad2b",
   "metadata": {},
   "outputs": [],
   "source": []
  }
 ],
 "metadata": {
  "kernelspec": {
   "display_name": "Python 3 (ipykernel)",
   "language": "python",
   "name": "python3"
  },
  "language_info": {
   "codemirror_mode": {
    "name": "ipython",
    "version": 3
   },
   "file_extension": ".py",
   "mimetype": "text/x-python",
   "name": "python",
   "nbconvert_exporter": "python",
   "pygments_lexer": "ipython3",
   "version": "3.8.10"
  }
 },
 "nbformat": 4,
 "nbformat_minor": 5
}
