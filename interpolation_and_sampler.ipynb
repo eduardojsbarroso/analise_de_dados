{
 "cells": [
  {
   "cell_type": "markdown",
   "id": "0a9bdd55",
   "metadata": {},
   "source": [
    "# *First and Second Assignment*\n",
    "First\n",
    "- Generate Interpolation Function;\n",
    "- Interpolate a a gaussian and compare the error to real Gaussian data;\n",
    "- Find the cumulative of the interpolated function and compare to the real cumulative;\n",
    "\n",
    "Second\n",
    "- Generate a sample using linear interpolation in the cumulative points;"
   ]
  },
  {
   "cell_type": "code",
   "execution_count": 1,
   "id": "568d2478",
   "metadata": {},
   "outputs": [],
   "source": [
    "import numpy as np\n",
    "import scipy as sc\n",
    "from scipy.special import erf\n",
    "import random as rd\n",
    "import matplotlib.pyplot as plt\n",
    "import math"
   ]
  },
  {
   "cell_type": "markdown",
   "id": "896bc574",
   "metadata": {},
   "source": [
    "# Interpolation Fcuntion\n",
    "\n",
    "We want to generate a linear interpolation function."
   ]
  },
  {
   "cell_type": "code",
   "execution_count": 2,
   "id": "0a8c3f08",
   "metadata": {},
   "outputs": [],
   "source": [
    "class LinearInterp:\n",
    "    def __init__(self, x_data, y_data):\n",
    "        self.x_data = x_data\n",
    "        self.y_data = y_data\n",
    "        self.cumulative_data = None\n",
    "   \n",
    "\n",
    "    def do_interp(self, x):\n",
    "        for a in range(0, len(self.y_data)-1):\n",
    "            if x >= self.x_data[a] and x <= self.x_data[a+1]:\n",
    "                dy = self.y_data[a+1] - self.y_data[a]\n",
    "                dx = self.x_data[a+1] - self.x_data[a]\n",
    "                coef_b = self.y_data [a] - (self.x_data[a] * dy) / dx  \n",
    "                coef_a = dy / dx\n",
    "                new_point = coef_b + x * coef_a\n",
    "                return [new_point, (coef_a, coef_b),(self.x_data[a], self.x_data[a+1])]\n",
    "    \n",
    "    def do_cumulative(self, a, b):\n",
    "        cumulative = 0\n",
    "        for x in self.x_data:\n",
    "            if x>=a and x<=b:\n",
    "                result = self.do_interp(x)\n",
    "                cumulative += result[2][1] ** 2 * result[1][0] /2 + result[2][1]*result[1][1] - result[2][0] ** 2 * result[1][0] /2 - result[2][0]*result[1][1]  \n",
    "        return [cumulative, result[1][0], result[1][1]]\n",
    "\n",
    "#This function checks if I generated one point before (if the cumulative data is empty. If I didnt, it computes the cumulative for all the knots).\n",
    "    def generate_random_g_point(self, a, b):\n",
    "        if self.cumulative_data == None:\n",
    "            temporary_list = []\n",
    "            for knot in range(0,len(self.x_data)-1):\n",
    "                temporary_list.append(self.do_cumulative(a, self.x_data[knot])[0])\n",
    "            self.cumulative_data = temporary_list\n",
    "        c = rd.uniform(min(self.cumulative_data),max(self.cumulative_data))\n",
    "        for knot in range(0,len(self.x_data)-1):\n",
    "            cumulative_i = self.cumulative_data[knot]\n",
    "            if cumulative_i >= c:\n",
    "                cumulative_j = self.do_cumulative(a, self.x_data[knot+1])[0]\n",
    "                dy = self.x_data[knot+1] - self.x_data[knot]\n",
    "                dx = cumulative_j - cumulative_i\n",
    "                coef_b = self.x_data[knot] - (cumulative_i * dy) / dx  \n",
    "                coef_a = dy / dx\n",
    "                new_point = coef_b + c * coef_a\n",
    "                return [new_point, (coef_a, coef_b),(self.x_data[a], self.x_data[a+1]), c]\n"
   ]
  },
  {
   "cell_type": "markdown",
   "id": "340ed96f",
   "metadata": {},
   "source": [
    "### Simple Test with a parabolic function \n",
    "\n",
    "Let's us first test our interpolation with a quadratic function."
   ]
  },
  {
   "cell_type": "code",
   "execution_count": 3,
   "id": "690494fb",
   "metadata": {},
   "outputs": [
    {
     "name": "stdout",
     "output_type": "stream",
     "text": [
      "Interpolated Point :6.5\n",
      "Real Point 6.25\n"
     ]
    }
   ],
   "source": [
    "x = [0,1,2,3,4]\n",
    "y = [a**2 for a in x]\n",
    "\n",
    "myobj = LinearInterp(x,y)\n",
    "n_p, coef_a, coef_b = myobj.do_interp(2.5)\n",
    "print(f\"Interpolated Point :{n_p}\")\n",
    "print(f\"Real Point {2.5**2}\")"
   ]
  },
  {
   "cell_type": "markdown",
   "id": "b250693c",
   "metadata": {},
   "source": [
    "### Test With a Gaussian Function and Error plot\n",
    "\n",
    "Now, we test our interpolated function with a Gaussian function."
   ]
  },
  {
   "cell_type": "code",
   "execution_count": 4,
   "id": "c8c477e4",
   "metadata": {},
   "outputs": [],
   "source": [
    "mu = 0\n",
    "sigma = 1\n",
    "interval_init = -5\n",
    "interval_end = 5\n",
    "def gaussian(x, mu, sig):\n",
    "    return np.exp(-np.power(x - mu, 2.) / (2 * np.power(sig, 2.))) * (1/ (np.sqrt(2 * np.pi)*sig))\n",
    "\n",
    "def gaussian_cdf(b, mu, sig):\n",
    "    arg = (b - mu)/(np.sqrt(2) * sig)\n",
    "    return 1/2 * (1 + erf(arg))\n",
    "\n",
    "\n",
    "x = np.linspace(interval_init,interval_end, 500)\n",
    "y = [gaussian(a, mu,sigma) for a in x]\n",
    "myobj = LinearInterp(x,y)\n",
    "\n",
    "err_list = []\n",
    "points_int = []\n",
    "for a in range (0,100):\n",
    "    point = rd.uniform(min(x),max(x))\n",
    "    n_p = myobj.do_interp(point)\n",
    "    err_list.append(abs(((n_p[0] - gaussian(point, mu, sigma)))))\n",
    "    points_int.append(n_p[0])"
   ]
  },
  {
   "cell_type": "code",
   "execution_count": 5,
   "id": "79678e73",
   "metadata": {},
   "outputs": [
    {
     "data": {
      "text/plain": [
       "Text(0, 0.5, ' Absolute Error')"
      ]
     },
     "execution_count": 5,
     "metadata": {},
     "output_type": "execute_result"
    },
    {
     "data": {
      "image/png": "[encoded data removed]",
      "text/plain": [
       "<Figure size 432x288 with 1 Axes>"
      ]
     },
     "metadata": {
      "needs_background": "light"
     },
     "output_type": "display_data"
    }
   ],
   "source": [
    "plt.plot(points_int, err_list, '.')\n",
    "plt.xlabel('Interpolated Points')\n",
    "plt.ylabel(' Absolute Error')\n"
   ]
  },
  {
   "cell_type": "markdown",
   "id": "b0f1fa7d",
   "metadata": {},
   "source": [
    "## Cumulative Gaussian Test\n",
    "\n",
    "Here, we calculate the cumulative function from the interpolated probability and then compare to the real values of the cumulative from a Gaussian function."
   ]
  },
  {
   "cell_type": "code",
   "execution_count": 6,
   "id": "0e954895",
   "metadata": {},
   "outputs": [
    {
     "data": {
      "text/plain": [
       "Text(0, 0.5, ' Interpolated Cumulative Error')"
      ]
     },
     "execution_count": 6,
     "metadata": {},
     "output_type": "execute_result"
    },
    {
     "data": {
      "image/png": "[encoded data removed]",
      "text/plain": [
       "<Figure size 432x288 with 1 Axes>"
      ]
     },
     "metadata": {
      "needs_background": "light"
     },
     "output_type": "display_data"
    }
   ],
   "source": [
    "cdf_int = []\n",
    "cdf_real = []\n",
    "cdf_err = []\n",
    "interval = np.linspace(interval_init,interval_end, 500)\n",
    "for a in interval:\n",
    "    my_cdf = myobj.do_cumulative(-5,a)[0]\n",
    "    g_cdf = gaussian_cdf(a,mu,sigma)\n",
    "    cdf_int.append(my_cdf)\n",
    "    cdf_real.append(g_cdf)\n",
    "    cdf_err.append(abs((my_cdf - g_cdf)/g_cdf)*100)\n",
    "plt.plot(interval, cdf_err, '.')\n",
    "plt.xlabel('Interval')\n",
    "plt.ylabel(' Interpolated Cumulative Error')"
   ]
  },
  {
   "cell_type": "markdown",
   "id": "b15f2140",
   "metadata": {},
   "source": [
    "## Sampler from the Cumulative\n",
    "\n",
    "We have a cumulative function that depends on $x$. We interpolated the proabbility and integrated to get the cumulative, so now we have a set of points $\\{x, C(x)\\}$. We can inverte this relations, such that we interpolate $\\{C, x(C)\\}$, so we are now able to generate points distributed by the gaussian, using the cumulative function, which is uniform and can be genarated by ````rd.uniform()````."
   ]
  },
  {
   "cell_type": "code",
   "execution_count": 7,
   "id": "bfa940cd",
   "metadata": {},
   "outputs": [],
   "source": [
    "\n",
    "##My sampler points, represented by sample\n",
    "\n",
    "sample = []\n",
    "for a in range (0,10000):\n",
    "    new_sample_p = myobj.generate_random_g_point(interval_init, interval_end)\n",
    "    sample.append(new_sample_p[0])\n",
    "\n",
    "\n"
   ]
  },
  {
   "cell_type": "code",
   "execution_count": 8,
   "id": "57adf9a1",
   "metadata": {},
   "outputs": [
    {
     "data": {
      "image/png": "[encoded data removed]",
      "text/plain": [
       "<Figure size 432x288 with 2 Axes>"
      ]
     },
     "metadata": {
      "needs_background": "light"
     },
     "output_type": "display_data"
    }
   ],
   "source": [
    "from scipy.stats import truncnorm\n",
    "\n",
    "##Function to generate gaussian points from a definite interval.\n",
    "\n",
    "def get_truncated_normal(mean=0, sd=1, low=0, upp=10):\n",
    "    return truncnorm(\n",
    "        (low - mean) / sd, (upp - mean) / sd, loc=mean, scale=sd)\n",
    "real_gauss = get_truncated_normal(mean=0, sd=1, low=interval_init, upp=interval_end)\n",
    "\n",
    "\n",
    "## Plot of the results\n",
    "fig, ax = plt.subplots(2, sharex=True)\n",
    "ax[0].hist(sample,        )\n",
    "ax[1].hist(real_gauss.rvs(10000))\n",
    "\n",
    "ax[0].set_title('My Sampler')\n",
    "ax[0].set_xlabel('$x$')\n",
    "ax[0].set_ylabel('Number of Points')\n",
    "\n",
    "ax[1].set_xlabel('$x$')\n",
    "ax[1].set_ylabel('Number of Points')\n",
    "ax[1].set_title('Normal Gaussian Sampler')\n",
    "\n",
    "plt.subplots_adjust(wspace=0.4, \n",
    "                    hspace=0.4)\n",
    "plt.show()"
   ]
  },
  {
   "cell_type": "code",
   "execution_count": null,
   "id": "443bad2b",
   "metadata": {},
   "outputs": [],
   "source": []
  },
  {
   "cell_type": "code",
   "execution_count": null,
   "id": "65c215cd",
   "metadata": {},
   "outputs": [],
   "source": []
  },
  {
   "cell_type": "code",
   "execution_count": null,
   "id": "e6b17e8c",
   "metadata": {},
   "outputs": [],
   "source": []
  }
 ],
 "metadata": {
  "kernelspec": {
   "display_name": "Python 3 (ipykernel)",
   "language": "python",
   "name": "python3"
  },
  "language_info": {
   "codemirror_mode": {
    "name": "ipython",
    "version": 3
   },
   "file_extension": ".py",
   "mimetype": "text/x-python",
   "name": "python",
   "nbconvert_exporter": "python",
   "pygments_lexer": "ipython3",
   "version": "3.8.10"
  }
 },
 "nbformat": 4,
 "nbformat_minor": 5
}
