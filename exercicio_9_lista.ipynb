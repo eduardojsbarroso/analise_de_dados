{
 "cells": [
  {
   "cell_type": "code",
   "execution_count": 1,
   "id": "ee82e844",
   "metadata": {},
   "outputs": [],
   "source": [
    "import interpolation \n",
    "import numpy as np\n",
    "import scipy as sc\n",
    "import scipy.stats\n",
    "from scipy.special import erf\n",
    "import random as rd\n",
    "import matplotlib.pyplot as plt\n",
    "import math\n",
    "\n",
    "def third_function_pdf(x,x0, sigma):\n",
    "    numerator = np.exp(-np.power(x - x0, 2.) / (2 * sigma**2)) * (1/ (sigma*np.sqrt(2 * np.pi))) - np.exp(-np.power(x + x0, 2.)/ (2 * sigma**2)) * (1/ (sigma * np.sqrt(2 * np.pi)))\n",
    "    return erf(x0/math.sqrt(2*sigma)) * numerator"
   ]
  },
  {
   "cell_type": "markdown",
   "id": "ae24917e",
   "metadata": {},
   "source": [
    "## Exercise 9"
   ]
  },
  {
   "cell_type": "markdown",
   "id": "9cd449d1",
   "metadata": {},
   "source": [
    "Generating $1000$ points from each distribution."
   ]
  },
  {
   "cell_type": "code",
   "execution_count": 2,
   "id": "a0378ddb",
   "metadata": {},
   "outputs": [],
   "source": [
    "pdf_object = interpolation.PDF()\n",
    "x_gauss = np.linspace(-5, 5, 500)\n",
    "y_gauss = [pdf_object.gaussian_oned_pdf(a,0,1) for a in x_gauss]\n",
    "gauss_generator = interpolation.LinearInterp(x_gauss, y_gauss, [-3,3])\n",
    "\n",
    "x_third = np.linspace(0, 10, 500)\n",
    "y_third = [third_function_pdf(a, 4, 1) for a in x_third]\n",
    "third_generator = interpolation.LinearInterp(x_third, y_third,[0,10])\n",
    "uniform_list = []\n",
    "gaussian_list = []\n",
    "third_list = []\n",
    "for a in range (0, 1000): #This for generate the 1000 points for each distribution\n",
    "        uniform_list.append(rd.random())\n",
    "        new_point_gauss= gauss_generator.generate_random_point()\n",
    "        gaussian_list.append(new_point_gauss[0])\n",
    "        new_point_third =third_generator.generate_random_point()\n",
    "        third_list.append(new_point_third[0])\n"
   ]
  },
  {
   "cell_type": "markdown",
   "id": "1ede40de",
   "metadata": {},
   "source": [
    "Calculating the mean with all the estimators"
   ]
  },
  {
   "cell_type": "code",
   "execution_count": 3,
   "id": "52ebebb2",
   "metadata": {},
   "outputs": [
    {
     "name": "stdout",
     "output_type": "stream",
     "text": [
      "Distribution Uniform \n",
      "\n",
      "value:0.509305611648325\n",
      "value:0.45549971856388166\n",
      "value:0.5098154270754004\n",
      "value:1.8\n",
      "value:0.0\n",
      "value:0.29155072058680065\n",
      "value:0.500056831410064\n",
      "value:0.5171235626681205\n",
      "\n",
      "Distribution Gaussian \n",
      "\n",
      "value:0.051090381425597554\n",
      "value:0.6104597367388706\n",
      "value:0.051141522948546105\n",
      "value:1.8\n",
      "value:0.5390822522091546\n",
      "value:0.4940824203913343\n",
      "value:0.01717377091298178\n",
      "value:0.033588347862154005\n",
      "\n",
      "Distribution Third \n",
      "\n",
      "value:4.01349217665808\n",
      "value:4.205293099287947\n",
      "value:4.0175096863444235\n",
      "value:1.8\n",
      "value:inf\n",
      "value:4.388597303788492\n",
      "value:3.8110888279550235\n",
      "value:4.1114035012739825\n",
      "\n"
     ]
    },
    {
     "name": "stderr",
     "output_type": "stream",
     "text": [
      "/usr/local/lib/python3.8/dist-packages/numpy/core/fromnumeric.py:86: RuntimeWarning: overflow encountered in reduce\n",
      "  return ufunc.reduce(obj, axis, dtype, out, **passkwargs)\n"
     ]
    }
   ],
   "source": [
    "estim_obj = interpolation.Estimators()\n",
    "points_list = [uniform_list, gaussian_list, third_list]\n",
    "for distribution in points_list:\n",
    "    if distribution == uniform_list:\n",
    "        name = 'Uniform'\n",
    "    if distribution == gaussian_list:\n",
    "        name = 'Gaussian'\n",
    "    if distribution == third_list:\n",
    "        name = 'Third'\n",
    "    print(f'Distribution {name} \\n')\n",
    "    print(f'value:{estim_obj.estimator_1(distribution)}')\n",
    "    print(f'value:{estim_obj.estimator_2(distribution)}')\n",
    "    print(f'value:{estim_obj.estimator_3(distribution)}')\n",
    "    print(f'value:{estim_obj.estimator_4(distribution)}')\n",
    "    print(f'value:{estim_obj.estimator_5(distribution)}')\n",
    "    print(f'value:{estim_obj.estimator_6(distribution)}')\n",
    "    print(f'value:{estim_obj.estimator_7(distribution)}')\n",
    "    print(f'value:{estim_obj.estimator_8(distribution)}\\n')\n"
   ]
  },
  {
   "cell_type": "markdown",
   "id": "a177153d",
   "metadata": {},
   "source": [
    "### Consistency Check"
   ]
  },
  {
   "cell_type": "code",
   "execution_count": 4,
   "id": "97f5c984",
   "metadata": {},
   "outputs": [
    {
     "name": "stdout",
     "output_type": "stream",
     "text": [
      "Distribution Uniform \n",
      "\n",
      "Diference from real value:-0.0003916366813099259\n",
      "Diference from real value:0.07498546577450216\n",
      "Diference from real value:-0.0003866405477153667\n",
      "Diference from real value:1.3\n",
      "Diference from real value:-0.5\n",
      "Diference from real value:0.4497354979815712\n",
      "Diference from real value:1.0242205705779384e-07\n",
      "Diference from real value:0.0007021423464829146\n",
      "\n",
      "Distribution Gaussian \n",
      "\n",
      "Diference from real value:0.005064496625943156\n",
      "Diference from real value:0.2753250111155928\n",
      "Diference from real value:0.005064547271415871\n",
      "Diference from real value:1.8\n",
      "Diference from real value:0.0\n",
      "Diference from real value:-0.11978176915956773\n",
      "Diference from real value:0.6665848546884501\n",
      "Diference from real value:0.006193915794059385\n",
      "\n",
      "Distribution Third \n",
      "\n",
      "Diference from real value:-0.0058266708589229665\n",
      "Diference from real value:0.007779093825287298\n",
      "Diference from real value:-0.005786728726210111\n",
      "Diference from real value:-2.2\n",
      "Diference from real value:inf\n",
      "Diference from real value:-1.5223623124797312\n",
      "Diference from real value:0.09671527543906411\n",
      "Diference from real value:-0.0038854710443749774\n",
      "\n"
     ]
    }
   ],
   "source": [
    "uniform_list = []\n",
    "gaussian_list = []\n",
    "third_list = []\n",
    "for a in range (0, 100000): #This for generate the 1000 points for each distribution\n",
    "        uniform_list.append(rd.random())\n",
    "        new_point_gauss= gauss_generator.generate_random_point()\n",
    "        gaussian_list.append(new_point_gauss[0])\n",
    "        new_point_third =third_generator.generate_random_point()\n",
    "        third_list.append(new_point_third[0])\n",
    "estim_obj = interpolation.Estimators()\n",
    "points_list = [uniform_list, gaussian_list, third_list]\n",
    "for distribution in points_list:\n",
    "    if distribution == uniform_list:\n",
    "        name = 'Uniform'\n",
    "        mean_dist = 0.5\n",
    "    if distribution == gaussian_list:\n",
    "        name = 'Gaussian'\n",
    "        mean_dist = 0\n",
    "    if distribution == third_list:\n",
    "        name = 'Third'\n",
    "        mean_dist = 4\n",
    "    print(f'Distribution {name} \\n')\n",
    "    print(f'Diference from real value:{estim_obj.estimator_1(distribution) - mean_dist}')\n",
    "    print(f'Diference from real value:{estim_obj.estimator_2(distribution) - mean_dist}')\n",
    "    print(f'Diference from real value:{estim_obj.estimator_3(distribution)- mean_dist}')\n",
    "    print(f'Diference from real value:{estim_obj.estimator_4(distribution)- mean_dist}')\n",
    "    print(f'Diference from real value:{estim_obj.estimator_5(distribution)- mean_dist}')\n",
    "    print(f'Diference from real value:{estim_obj.estimator_6(distribution)- mean_dist}')\n",
    "    print(f'Diference from real value:{estim_obj.estimator_7(distribution)- mean_dist}')\n",
    "    print(f'Diference from real value:{estim_obj.estimator_8(distribution)- mean_dist}\\n')"
   ]
  },
  {
   "cell_type": "markdown",
   "id": "92a02930",
   "metadata": {},
   "source": [
    "The estimators 1,3 and 8 are consistent, since they approach the real values $0.5, 0$ and $4$ for $n\\rightarrow \\infty$."
   ]
  },
  {
   "cell_type": "markdown",
   "id": "ae2c4748",
   "metadata": {},
   "source": [
    "### Bias Check"
   ]
  },
  {
   "cell_type": "code",
   "execution_count": 21,
   "id": "7aa6542e",
   "metadata": {},
   "outputs": [
    {
     "name": "stdout",
     "output_type": "stream",
     "text": [
      "uniform\n",
      "value:0.5048170086968553\n",
      "value:0.5131372129101156\n",
      "value:0.5313863249440582\n",
      "value:1.800000000000001\n",
      "value:0.3852423952668422\n",
      "value:0.48680466537892164\n",
      "value:0.50596983719132\n",
      "value:0.49495499698692025\n",
      "\n",
      "gaussian\n",
      "value:-0.003511211389107252\n",
      "value:0.013108972552864835\n",
      "value:-0.0036960119885339447\n",
      "value:1.800000000000001\n",
      "value:nan\n",
      "value:-0.10755197404237152\n",
      "value:-0.03170147371599735\n",
      "value:0.021329523059767593\n",
      "\n",
      "third\n",
      "value:3.9953265104217666\n",
      "value:3.9967717829109732\n",
      "value:4.205606853075546\n",
      "value:1.800000000000001\n",
      "value:3.8640594866972857\n",
      "value:4.026552585870652\n",
      "value:3.9548590965218127\n",
      "value:3.9849774381748\n",
      "\n"
     ]
    }
   ],
   "source": [
    "points_list = []\n",
    "for a in range(0,3):\n",
    "    estim1 = []\n",
    "    estim2 = []\n",
    "    estim3 = []\n",
    "    estim4 = []\n",
    "    estim5 = []\n",
    "    estim6 = []\n",
    "    estim7 = []\n",
    "    estim8 = []\n",
    "    for b in range(0,100):\n",
    "        points_list = []\n",
    "        if a == 0:\n",
    "            name = 'uniform'\n",
    "            for c in range (0, 20):\n",
    "                points_list.append(rd.random())\n",
    "        if a == 1:\n",
    "            name = 'gaussian'\n",
    "            for c in range (0, 20):\n",
    "                new_point_gauss= gauss_generator.generate_random_point()\n",
    "                points_list.append(new_point_gauss[0])\n",
    "        if a == 2:\n",
    "            name = 'third'\n",
    "            for c in range (0, 20):\n",
    "                new_point_third =third_generator.generate_random_point()\n",
    "                points_list.append(new_point_third[0])\n",
    "        \n",
    "\n",
    "        estim_obj = interpolation.Estimators()\n",
    "\n",
    "        estim1.append(estim_obj.estimator_1(points_list))\n",
    "        estim2.append(estim_obj.estimator_2(points_list))\n",
    "        estim3.append(estim_obj.estimator_3(points_list))\n",
    "        estim4.append(estim_obj.estimator_4(points_list))\n",
    "        estim5.append(estim_obj.estimator_5(points_list))\n",
    "        estim6.append(estim_obj.estimator_6(points_list))\n",
    "        estim7.append(estim_obj.estimator_7(points_list))\n",
    "        estim8.append(estim_obj.estimator_8(points_list))\n",
    "    print(name)   \n",
    "    print(f'value:{estim_obj.estimator_1(estim1)}')\n",
    "    print(f'value:{estim_obj.estimator_1(estim2)}')\n",
    "    print(f'value:{estim_obj.estimator_1(estim3)}')\n",
    "    print(f'value:{estim_obj.estimator_1(estim4)}')\n",
    "    print(f'value:{estim_obj.estimator_1(estim5)}')\n",
    "    print(f'value:{estim_obj.estimator_1(estim6)}')\n",
    "    print(f'value:{estim_obj.estimator_1(estim7)}')\n",
    "    print(f'value:{estim_obj.estimator_1(estim8)}\\n')"
   ]
  },
  {
   "cell_type": "markdown",
   "id": "ec819563",
   "metadata": {},
   "source": [
    "The estimators 1,2,6,7,8 are unbiasied."
   ]
  },
  {
   "cell_type": "markdown",
   "id": "eaa4601f",
   "metadata": {},
   "source": [
    "### Efficiency Test"
   ]
  },
  {
   "cell_type": "code",
   "execution_count": 16,
   "id": "6daba912",
   "metadata": {},
   "outputs": [
    {
     "name": "stdout",
     "output_type": "stream",
     "text": [
      "uniform\n",
      "Variance value:0.003949814529852583\n",
      "Variance value:0.008305487736014179\n",
      "Variance value:0.0043765257948505075\n",
      "Variance value:7.888609052210117e-31\n",
      "Variance value:0.006188260364749992\n",
      "Variance value:0.06481606352406344\n",
      "Variance value:0.0008104501996425242\n",
      "Variance value:0.007549533880435456\n",
      "\n",
      "gaussian\n",
      "Variance value:0.04358060947507595\n",
      "Variance value:0.09204896509769386\n",
      "Variance value:0.04828876396130297\n",
      "Variance value:7.888609052210117e-31\n",
      "Variance value:nan\n",
      "Variance value:1.154476429813762\n",
      "Variance value:0.11260669849874352\n",
      "Variance value:0.11256824638255017\n",
      "\n",
      "third\n",
      "Variance value:0.04142230263661416\n",
      "Variance value:0.07323174988586657\n",
      "Variance value:0.0458972882400157\n",
      "Variance value:7.888609052210117e-31\n",
      "Variance value:0.04569815079737317\n",
      "Variance value:1.078451052501033\n",
      "Variance value:0.13104353918402162\n",
      "Variance value:0.08519348827447458\n",
      "\n"
     ]
    },
    {
     "name": "stderr",
     "output_type": "stream",
     "text": [
      "/root/Estatistica/interpolation.py:153: RuntimeWarning: invalid value encountered in double_scalars\n",
      "  return product**coeficient\n"
     ]
    }
   ],
   "source": [
    "points_list = []\n",
    "utility = interpolation.Util()\n",
    "for a in range(0,3):\n",
    "    estim1 = []\n",
    "    estim2 = []\n",
    "    estim3 = []\n",
    "    estim4 = []\n",
    "    estim5 = []\n",
    "    estim6 = []\n",
    "    estim7 = []\n",
    "    estim8 = []\n",
    "    for b in range(0,100):\n",
    "        points_list = []\n",
    "        if a == 0:\n",
    "            name = 'uniform'\n",
    "            for c in range (0, 20):\n",
    "                points_list.append(rd.random())\n",
    "        if a == 1:\n",
    "            name = 'gaussian'\n",
    "            for c in range (0, 20):\n",
    "                new_point_gauss= gauss_generator.generate_random_point()\n",
    "                points_list.append(new_point_gauss[0])\n",
    "        if a == 2:\n",
    "            name = 'third'\n",
    "            for c in range (0, 20):\n",
    "                new_point_third =third_generator.generate_random_point()\n",
    "                points_list.append(new_point_third[0])\n",
    "        \n",
    "\n",
    "        estim_obj = interpolation.Estimators()\n",
    "\n",
    "        estim1.append(estim_obj.estimator_1(points_list))\n",
    "        estim2.append(estim_obj.estimator_2(points_list))\n",
    "        estim3.append(estim_obj.estimator_3(points_list))\n",
    "        estim4.append(estim_obj.estimator_4(points_list))\n",
    "        estim5.append(estim_obj.estimator_5(points_list))\n",
    "        estim6.append(estim_obj.estimator_6(points_list))\n",
    "        estim7.append(estim_obj.estimator_7(points_list))\n",
    "        estim8.append(estim_obj.estimator_8(points_list))\n",
    "    print(name)   \n",
    "    print(f'Variance value:{utility.var_function(estim1,estim_obj.estimator_1(estim1))}')\n",
    "    print(f'Variance value:{utility.var_function(estim2,estim_obj.estimator_1(estim2))}')\n",
    "    print(f'Variance value:{utility.var_function(estim3,estim_obj.estimator_1(estim3))}')\n",
    "    print(f'Variance value:{utility.var_function(estim4,estim_obj.estimator_1(estim4))}')\n",
    "    print(f'Variance value:{utility.var_function(estim5,estim_obj.estimator_1(estim5))}')\n",
    "    print(f'Variance value:{utility.var_function(estim6,estim_obj.estimator_1(estim6))}')\n",
    "    print(f'Variance value:{utility.var_function(estim7,estim_obj.estimator_1(estim7))}')\n",
    "    print(f'Variance value:{utility.var_function(estim8,estim_obj.estimator_1(estim8))}\\n')\n",
    "    "
   ]
  },
  {
   "cell_type": "markdown",
   "id": "9fc6c39c",
   "metadata": {},
   "source": [
    "The most efficient estimators in crescent order are: 6, 7, 8, 2, 3, 5, 1, 4. "
   ]
  },
  {
   "cell_type": "code",
   "execution_count": null,
   "id": "4a1edcb9",
   "metadata": {},
   "outputs": [],
   "source": []
  }
 ],
 "metadata": {
  "kernelspec": {
   "display_name": "Python 3 (ipykernel)",
   "language": "python",
   "name": "python3"
  },
  "language_info": {
   "codemirror_mode": {
    "name": "ipython",
    "version": 3
   },
   "file_extension": ".py",
   "mimetype": "text/x-python",
   "name": "python",
   "nbconvert_exporter": "python",
   "pygments_lexer": "ipython3",
   "version": "3.8.10"
  }
 },
 "nbformat": 4,
 "nbformat_minor": 5
}
